{
 "cells": [
  {
   "cell_type": "code",
   "execution_count": null,
   "id": "0e4f3e0c-9a99-4e47-8369-d328645042a0",
   "metadata": {},
   "outputs": [],
   "source": [
    "\"\"\"To encrypt conversations between any two parties to prevent any third party\n",
    "from accessing or guessing them, and ultimately to reveal by the  the content of the message,\n",
    "which may contain sensitive data that would worry people’s comfort if it were accessed,\n",
    " as it is revealed through the decryption key.\"\"\"\n"
   ]
  },
  {
   "cell_type": "code",
   "execution_count": null,
   "id": "be5068f8-a0ab-4ead-be4d-a6579726da40",
   "metadata": {},
   "outputs": [],
   "source": [
    "\n",
    "print(\"please enter your message: \")\n",
    "\n",
    "def encrypt_msg(message, key):\n",
    "    encrypted_message = ''.join(chr(ord(c) ^ key) for c in message)\n",
    "    return encrypted_message\n",
    "\n",
    "def decrypt_msg(encrypted_message, key):\n",
    "    decrypted_message = ''.join(chr(ord(c) ^ key) for c in encrypted_message)\n",
    "    return decrypted_message\n",
    "\n",
    "\n",
    "\n",
    "# Example usage:\n",
    "encrypt_key = 8\n",
    "message = \"Hello, I Live in Egypt\"\n",
    "encrypted_message = encrypt_msg(message ,encrypt_key)\n",
    "decrypt_key = 8\n",
    "decrypted_message = decrypt_msg(encrypted_message, decrypt_key)\n",
    "def check_msg():\n",
    "  if decrypted_message == encrypt_msg(encrypted_message , 8):\n",
    "    print(message)\n",
    "  else:\n",
    "    print(\"not same msg\")\n",
    "\n",
    "check_msg()"
   ]
  }
 ],
 "metadata": {
  "kernelspec": {
   "display_name": "Python 3 (ipykernel)",
   "language": "python",
   "name": "python3"
  },
  "language_info": {
   "codemirror_mode": {
    "name": "ipython",
    "version": 3
   },
   "file_extension": ".py",
   "mimetype": "text/x-python",
   "name": "python",
   "nbconvert_exporter": "python",
   "pygments_lexer": "ipython3",
   "version": "3.9.12"
  }
 },
 "nbformat": 4,
 "nbformat_minor": 5
}
