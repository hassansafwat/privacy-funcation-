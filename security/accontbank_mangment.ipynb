{
 "cells": [
  {
   "cell_type": "code",
   "execution_count": null,
   "id": "b48f0c7d-2a86-411b-9fe7-8bcb967f83b8",
   "metadata": {},
   "outputs": [],
   "source": [
    "\"\"\"The code is related to managing the user account and protecting sensitive and personal information.\n",
    " The user account information is stored in a database (user_accounts) and encrypts the password using\n",
    "  the SHA-256 hash function, to protect user passwords. Access to the balances is granted only by \n",
    "  authenticated persons. This protects data and accounts, in addition to not allowing unlimited\n",
    "   password attempts. After a certain number of incorrect password attempts,\n",
    " the attacker is usually prevented from making further attempts.\"\"\""
   ]
  },
  {
   "cell_type": "code",
   "execution_count": null,
   "id": "67b11395-56e5-405c-badb-a0353a869e98",
   "metadata": {},
   "outputs": [],
   "source": [
    "\n",
    "import hashlib\n",
    "\n",
    "# Simulated database for user accounts\n",
    "user_accounts = {}\n",
    "\n",
    "# Encryption and Decryption Functions\n",
    "def encrypt_data(data):\n",
    "    # Simulate encryption with a simple hash (not recommended for production)\n",
    "    encdata= hashlib.sha256(data.encode()).hexdigest()\n",
    "    return encdata\n",
    "\n",
    "# Function to create a new account\n",
    "def create_account(username, password):\n",
    "    if username not in user_accounts:\n",
    "        encrypted_password = encrypt_data(password)\n",
    "        user_accounts[username] = {\"password\": encrypted_password, \"balance\": 0.0}\n",
    "        print(f\"Account for {username} created successfully.\")\n",
    "    else:\n",
    "        print(\"Username already exists. Please choose a different username.\")\n",
    "\n",
    "# Function to log in and check the balance\n",
    "def login(username, password):\n",
    "    if username in user_accounts:\n",
    "        stored_password = user_accounts[username][\"password\"]\n",
    "        if encrypt_data(password) == stored_password:\n",
    "            balance = user_accounts[username][\"balance\"]\n",
    "            print(f\"Welcome, {username}! Your balance is ${balance:.2f}\")\n",
    "        else:\n",
    "            print(\"Incorrect password. Please try again.\")\n",
    "    else:\n",
    "        print(\"Username not found. Please create an account.\")\n",
    "\n",
    "# Function to deposit funds\n",
    "def deposit(username, amount):\n",
    "    if username in user_accounts:\n",
    "        user_accounts[username][\"balance\"] += amount\n",
    "        print(f\"Deposited ${amount:.2f} into your account. New balance: ${user_accounts[username]['balance']:.2f}\")\n",
    "    else:\n",
    "        print(\"Username not found. Please create an account.\")\n",
    "\n",
    "# Example Usage\n",
    "if _name_ == \"_main_\":\n",
    "    create_account(\"user1\", \"password123\")  # Create an account\n",
    "    login(\"user1\", \"password123\")           # Log in\n",
    "    deposit(\"user1\", 100.0)                # Deposit funds"
   ]
  }
 ],
 "metadata": {
  "kernelspec": {
   "display_name": "Python 3 (ipykernel)",
   "language": "python",
   "name": "python3"
  },
  "language_info": {
   "codemirror_mode": {
    "name": "ipython",
    "version": 3
   },
   "file_extension": ".py",
   "mimetype": "text/x-python",
   "name": "python",
   "nbconvert_exporter": "python",
   "pygments_lexer": "ipython3",
   "version": "3.9.12"
  }
 },
 "nbformat": 4,
 "nbformat_minor": 5
}
