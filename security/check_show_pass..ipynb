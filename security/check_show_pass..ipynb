{
 "cells": [
  {
   "cell_type": "code",
   "execution_count": null,
   "id": "2d2809c5-8d1c-471b-9993-c9b6d753fa10",
   "metadata": {},
   "outputs": [],
   "source": [
    "\"\"\"Two functions have been created, the first is the show_pass function to \n",
    "display the system password for employees inside the databases only, and the \n",
    "second is the checkpass function to know the validity of people’s password, as it \n",
    "is compared with the passwords in the data base .\n",
    "\"\"\""
   ]
  },
  {
   "cell_type": "code",
   "execution_count": null,
   "id": "5d1ac70d-fd3e-4500-a027-c489a64c20a7",
   "metadata": {},
   "outputs": [],
   "source": [
    "\n",
    "import hashlib\n",
    "\n",
    "sys_password= 1234567890123456789012345678901234567890123456789012345678901234567890\n",
    "\n",
    "usernames = ['ahmad', 'hasan', 'laith' ,'mohmd' ,'asaad']\n",
    "\n",
    "user_passwords = {\n",
    "    'ahmad': 1234567890123456789012345678901234567890123456789012345678901234567890,\n",
    "    'hasan': '12345678901234568596125pk455j1234567890123456789012345678901234567890',\n",
    "    'laith': 10258963474566655102059012345678901234567890123456789012345785230149203,\n",
    "    'mohmd': \"mohdpassword78956\",\n",
    "     'asad':\"llll789523315503hkvcj jkkl\" ,\n",
    "}\n",
    "def show_pass(username):\n",
    "    user_name = username.lower()\n",
    "    if user_name in usernames:\n",
    "      print(f\"Password for {user_name}: {sys_password}\")\n",
    "    else:\n",
    "      pass_bytes = str(sys_password).encode('utf-8')\n",
    "      hash_object = hashlib.sha256(pass_bytes)\n",
    "      hash_value = hash_object.hexdigest()\n",
    "      print(f\"hashed password for {user_name}: {hash_value}\")\n",
    "\n",
    "def checkpass(username , password):\n",
    "    user_name = username.lower()\n",
    "    if(user_name) in user_passwords:\n",
    "        stored_password = user_passwords[user_name]\n",
    "        if password == stored_password:\n",
    "            print(f\"Password for {user_name} is correct.\")\n",
    "        else:\n",
    "            print(f\"Password for {user_name} is not correct.\")\n",
    "    else:\n",
    "        print(\"user not found\")\n",
    "\n",
    "\n",
    "\n",
    "show_pass(\"laith\")\n",
    "show_pass('salam')\n",
    "checkpass('laith',78959)\n",
    "checkpass('laith ahmad',78959)\n",
    "checkpass('laith',10258963474566655102059012345678901234567890123456789012345785230149203)"
   ]
  }
 ],
 "metadata": {
  "kernelspec": {
   "display_name": "Python 3 (ipykernel)",
   "language": "python",
   "name": "python3"
  },
  "language_info": {
   "codemirror_mode": {
    "name": "ipython",
    "version": 3
   },
   "file_extension": ".py",
   "mimetype": "text/x-python",
   "name": "python",
   "nbconvert_exporter": "python",
   "pygments_lexer": "ipython3",
   "version": "3.9.12"
  }
 },
 "nbformat": 4,
 "nbformat_minor": 5
}
